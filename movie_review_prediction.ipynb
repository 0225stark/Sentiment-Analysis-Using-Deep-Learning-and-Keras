{
  "cells": [
    {
      "cell_type": "code",
      "execution_count": 1,
      "metadata": {
        "colab": {
          "base_uri": "https://localhost:8080/"
        },
        "id": "plJNvIMkus6n",
        "outputId": "9479f283-5433-4527-f232-25eb6f99dddf"
      },
      "outputs": [
        {
          "output_type": "stream",
          "name": "stdout",
          "text": [
            "Mounted at /content/drive\n"
          ]
        }
      ],
      "source": [
        "from google.colab import drive\n",
        "drive.mount('/content/drive')"
      ]
    },
    {
      "cell_type": "markdown",
      "metadata": {
        "id": "jeQWZXpLlDq1"
      },
      "source": [
        "#Loading Libraries"
      ]
    },
    {
      "cell_type": "code",
      "execution_count": 2,
      "metadata": {
        "colab": {
          "base_uri": "https://localhost:8080/"
        },
        "id": "IyEKAkptumQ7",
        "outputId": "0bf81544-bfac-47e7-a831-e290d90a18b1"
      },
      "outputs": [
        {
          "output_type": "stream",
          "name": "stdout",
          "text": [
            "['.ipynb_checkpoints', 'sampleSubmission.csv', 'Submission.csv', 'test.gsheet', 'train.gsheet', 'train.tsv', 'test.tsv', 'temp', 'movie-review-prediction.ipynb']\n"
          ]
        }
      ],
      "source": [
        "import numpy as np\n",
        "import pandas as pd\n",
        "import os\n",
        "import matplotlib.pyplot as plt\n",
        "import seaborn as sns\n",
        "\n",
        "import warnings\n",
        "warnings.filterwarnings(\"ignore\", category=UserWarning, module='bs4')\n",
        "\n",
        "print(os.listdir(\"/content/drive/MyDrive/Colab Notebooks/\"))"
      ]
    },
    {
      "cell_type": "code",
      "execution_count": 3,
      "metadata": {
        "id": "PLpSKFpGumQ-"
      },
      "outputs": [],
      "source": [
        "from keras.utils import to_categorical\n",
        "from sklearn.model_selection import train_test_split\n",
        "from sklearn.metrics import confusion_matrix, classification_report\n",
        "from keras.preprocessing import sequence\n",
        "from keras.preprocessing.text import Tokenizer\n",
        "from keras.layers import Dense,Dropout,Embedding,LSTM\n",
        "from keras.callbacks import EarlyStopping\n",
        "from keras.losses import categorical_crossentropy\n",
        "from keras.optimizers import Adam\n",
        "from keras.models import Sequential\n",
        "from keras.utils import plot_model\n",
        "\n",
        "import random\n",
        "import tensorflow\n",
        "\n",
        "#set random seed for the session and also for tensorflow that runs in background for keras\n",
        "tensorflow.random.set_seed(123)\n",
        "random.seed(123)"
      ]
    },
    {
      "cell_type": "markdown",
      "metadata": {
        "id": "61tcEKwxumQ-"
      },
      "source": [
        "# Load Dataset"
      ]
    },
    {
      "cell_type": "code",
      "execution_count": 4,
      "metadata": {
        "id": "jl70T4QgumQ_"
      },
      "outputs": [],
      "source": [
        "train= pd.read_csv(\"/content/drive/MyDrive/Colab Notebooks/train.tsv\", sep=\"\\t\")\n",
        "test = pd.read_csv(\"/content/drive/MyDrive/Colab Notebooks/test.tsv\", sep=\"\\t\")"
      ]
    },
    {
      "cell_type": "code",
      "execution_count": 5,
      "metadata": {
        "colab": {
          "base_uri": "https://localhost:8080/"
        },
        "collapsed": true,
        "id": "kUe0_M-NumQ_",
        "outputId": "3fbab6ff-4fe2-4b51-847f-d6735ef93a7c"
      },
      "outputs": [
        {
          "output_type": "stream",
          "name": "stdout",
          "text": [
            "<class 'pandas.core.frame.DataFrame'>\n",
            "RangeIndex: 156060 entries, 0 to 156059\n",
            "Data columns (total 4 columns):\n",
            " #   Column      Non-Null Count   Dtype \n",
            "---  ------      --------------   ----- \n",
            " 0   PhraseId    156060 non-null  int64 \n",
            " 1   SentenceId  156060 non-null  int64 \n",
            " 2   Phrase      156058 non-null  object\n",
            " 3   Sentiment   156060 non-null  int64 \n",
            "dtypes: int64(3), object(1)\n",
            "memory usage: 4.8+ MB\n"
          ]
        }
      ],
      "source": [
        "train.info()"
      ]
    },
    {
      "cell_type": "code",
      "execution_count": 6,
      "metadata": {
        "colab": {
          "base_uri": "https://localhost:8080/"
        },
        "id": "UhzWAgagxO_U",
        "outputId": "d989c8ae-26f4-470a-8870-a4a0216c1bdf"
      },
      "outputs": [
        {
          "output_type": "stream",
          "name": "stdout",
          "text": [
            "<class 'pandas.core.frame.DataFrame'>\n",
            "RangeIndex: 66292 entries, 0 to 66291\n",
            "Data columns (total 3 columns):\n",
            " #   Column      Non-Null Count  Dtype \n",
            "---  ------      --------------  ----- \n",
            " 0   PhraseId    66292 non-null  int64 \n",
            " 1   SentenceId  66292 non-null  int64 \n",
            " 2   Phrase      66289 non-null  object\n",
            "dtypes: int64(2), object(1)\n",
            "memory usage: 1.5+ MB\n"
          ]
        }
      ],
      "source": [
        "test.info()"
      ]
    },
    {
      "cell_type": "code",
      "execution_count": 7,
      "metadata": {
        "collapsed": true,
        "id": "FGFio9FxtMzN"
      },
      "outputs": [],
      "source": [
        "test=test[:15000]"
      ]
    },
    {
      "cell_type": "code",
      "execution_count": 8,
      "metadata": {
        "colab": {
          "base_uri": "https://localhost:8080/"
        },
        "id": "A9rkHAIR4jn0",
        "outputId": "06d3debc-2148-4494-9ceb-48ad443702b5"
      },
      "outputs": [
        {
          "output_type": "stream",
          "name": "stdout",
          "text": [
            "Collecting emoji\n",
            "  Downloading emoji-2.12.1-py3-none-any.whl (431 kB)\n",
            "\u001b[2K     \u001b[90m━━━━━━━━━━━━━━━━━━━━━━━━━━━━━━━━━━━━━━━━\u001b[0m \u001b[32m431.4/431.4 kB\u001b[0m \u001b[31m7.2 MB/s\u001b[0m eta \u001b[36m0:00:00\u001b[0m\n",
            "\u001b[?25hRequirement already satisfied: typing-extensions>=4.7.0 in /usr/local/lib/python3.10/dist-packages (from emoji) (4.11.0)\n",
            "Installing collected packages: emoji\n",
            "Successfully installed emoji-2.12.1\n"
          ]
        }
      ],
      "source": [
        "pip install emoji"
      ]
    },
    {
      "cell_type": "markdown",
      "metadata": {
        "id": "PUo_e4aXumRA"
      },
      "source": [
        "# Function for cleaning the reviews, tokenize and lemmatize them."
      ]
    },
    {
      "cell_type": "code",
      "execution_count": 10,
      "metadata": {
        "colab": {
          "base_uri": "https://localhost:8080/"
        },
        "id": "_XpLvQdiumRA",
        "outputId": "d3f645c0-885d-47a5-e6b9-271bd0a14fdd"
      },
      "outputs": [
        {
          "output_type": "stream",
          "name": "stderr",
          "text": [
            "[nltk_data] Downloading package punkt to /root/nltk_data...\n",
            "[nltk_data]   Package punkt is already up-to-date!\n",
            "[nltk_data] Downloading package wordnet to /root/nltk_data...\n",
            "[nltk_data]   Package wordnet is already up-to-date!\n",
            "[nltk_data] Downloading package stopwords to /root/nltk_data...\n",
            "[nltk_data]   Package stopwords is already up-to-date!\n",
            "  2%|▏         | 2439/156060 [00:03<02:54, 882.48it/s]<ipython-input-10-7121d66130b8>:26: MarkupResemblesLocatorWarning: The input looks more like a filename than markup. You may want to open this file and pass the filehandle into Beautiful Soup.\n",
            "  review_text = BeautifulSoup(sent, \"html.parser\").get_text()\n",
            "100%|██████████| 156060/156060 [00:56<00:00, 2772.29it/s]\n",
            " 14%|█▍        | 2096/15000 [00:00<00:03, 4209.73it/s]<ipython-input-10-7121d66130b8>:26: MarkupResemblesLocatorWarning: The input looks more like a filename than markup. You may want to open this file and pass the filehandle into Beautiful Soup.\n",
            "  review_text = BeautifulSoup(sent, \"html.parser\").get_text()\n",
            "100%|██████████| 15000/15000 [00:03<00:00, 3991.23it/s]\n"
          ]
        }
      ],
      "source": [
        "import nltk\n",
        "from nltk.tokenize import word_tokenize\n",
        "from nltk.corpus import stopwords\n",
        "from nltk.stem import WordNetLemmatizer\n",
        "from bs4 import BeautifulSoup\n",
        "import re\n",
        "import string\n",
        "import emoji\n",
        "from tqdm import tqdm\n",
        "\n",
        "nltk.download('punkt')\n",
        "nltk.download('wordnet')\n",
        "nltk.download('stopwords')\n",
        "\n",
        "lemmatizer = WordNetLemmatizer()\n",
        "stop_words = set(stopwords.words('english'))\n",
        "\n",
        "def clean_sentences(df):\n",
        "    reviews = []\n",
        "\n",
        "     # Fill NaN values with empty strings and ensure all entries are strings\n",
        "    df['Phrase'] = df['Phrase'].fillna('').astype(str)\n",
        "\n",
        "    for sent in tqdm(df['Phrase']):\n",
        "        # Remove HTML tags\n",
        "        review_text = BeautifulSoup(sent, \"html.parser\").get_text()\n",
        "\n",
        "        # Remove URLs\n",
        "        review_text = re.sub(r\"http\\S+|www\\S+|https\\S+\", '', review_text, flags=re.MULTILINE)\n",
        "\n",
        "        # Convert emojis to textual representation and remove them\n",
        "        review_text = emoji.demojize(review_text)\n",
        "        review_text = re.sub(r':[a-z_]+:', '', review_text)\n",
        "\n",
        "        # Remove punctuation\n",
        "        review_text = review_text.translate(str.maketrans('', '', string.punctuation))\n",
        "\n",
        "        # Remove numbers\n",
        "        review_text = re.sub(r'\\d+', '', review_text)\n",
        "\n",
        "        # Tokenize the sentences\n",
        "        words = word_tokenize(review_text.lower())\n",
        "\n",
        "        # Remove stop words and lemmatize each word to its lemma\n",
        "        lemma_words = [lemmatizer.lemmatize(word) for word in words if word not in stop_words]\n",
        "\n",
        "        reviews.append(lemma_words)\n",
        "\n",
        "    return reviews\n",
        "\n",
        "train_sentences = clean_sentences(train)\n",
        "test_sentences = clean_sentences(test)"
      ]
    },
    {
      "cell_type": "code",
      "execution_count": 11,
      "metadata": {
        "colab": {
          "base_uri": "https://localhost:8080/"
        },
        "id": "Lbbq3fOQbMIm",
        "outputId": "ea572b03-e070-4ded-c7e0-9f044d1997d7"
      },
      "outputs": [
        {
          "output_type": "stream",
          "name": "stdout",
          "text": [
            "First 5 cleaned sentences from the train dataset:\n",
            "['midnight', 'haunting', 'complete', 'waste', 'time', 'plot', 'incoherent', 'acting', 'wooden', 'special', 'effect', 'laughable']\n",
            "['love', 'digital', 'age', 'potential', 'ultimately', 'fall', 'flat', 'premise', 'interesting', 'execution', 'lacking', 'character', 'underdeveloped', 'dialogue', 'often', 'feel', 'forced']\n",
            "['space', 'explorer', 'average', 'scifi', 'adventure', 'offer', 'decent', 'visual', 'effect', 'thrilling', 'moment', 'doesnt', 'really', 'break', 'new', 'ground']\n",
            "['great', 'escape', 'solid', 'action', 'movie', 'delivers', 'plenty', 'excitement', 'pacing', 'brisk', 'set', 'piece', 'wellexecuted']\n",
            "['whimsical', 'wonder', 'absolute', 'delight', 'start', 'finish', 'film', 'brimming', 'charm', 'creativity', 'heart', 'character', 'wonderfully', 'developed', 'story', 'touching', 'uplifting']\n",
            "\n",
            "First 5 cleaned sentences from the test dataset:\n",
            "['feel', 'like', 'cheap', 'knockoff', 'every', 'horror', 'movie', 'cliché', 'thrown', 'together', 'real', 'effort', 'originality', 'avoid', 'movie', 'cost', 'value', 'time', 'sanity']\n",
            "['charming', 'moment', 'overshadowed', 'predictable', 'uninspired', 'storyline', 'worst', 'romantic', 'comedy', 'certainly', 'far', 'best']\n",
            "['story', 'predictable', 'character', 'fairly', 'standard', 'decent', 'way', 'pas', 'couple', 'hour', 'nothing', 'else', 'something', 'youll', 'likely', 'remember', 'long', 'credit', 'roll']\n",
            "['character', 'might', 'bit', 'onedimensional', 'performance', 'engaging', 'enough', 'keep', 'invested', 'fun', 'watch', 'especially', 'youre', 'fan', 'genre', 'though', 'doesnt', 'quite', 'reach', 'height', 'classic']\n",
            "['visuals', 'stunning', 'soundtrack', 'perfectly', 'complement', 'whimsical', 'tone', 'movie', 'mustwatch', 'anyone', 'looking', 'feelgood', 'film', 'leaf', 'smile', 'face']\n"
          ]
        }
      ],
      "source": [
        "# Print the first 5 cleaned sentences from the train dataset\n",
        "print(\"First 5 cleaned sentences from the train dataset:\")\n",
        "for i in range(5):\n",
        "    print(train_sentences[i])\n",
        "\n",
        "# Print the first 5 cleaned sentences from the test dataset\n",
        "print(\"\\nFirst 5 cleaned sentences from the test dataset:\")\n",
        "for i in range(5):\n",
        "    print(test_sentences[i])"
      ]
    },
    {
      "cell_type": "markdown",
      "metadata": {
        "id": "MoFMP67wumRB"
      },
      "source": [
        "## Collect the dependent values and convert to one-hot encoded output using to_categorical"
      ]
    },
    {
      "cell_type": "code",
      "execution_count": 12,
      "metadata": {
        "id": "BO8l27kjumRB"
      },
      "outputs": [],
      "source": [
        "target=train.Sentiment.values\n",
        "y_target=to_categorical(target)\n",
        "num_classes=y_target.shape[1]"
      ]
    },
    {
      "cell_type": "markdown",
      "metadata": {
        "id": "WiDaJQoSym-a"
      },
      "source": [
        "##split into train and validation sets"
      ]
    },
    {
      "cell_type": "code",
      "execution_count": 13,
      "metadata": {
        "id": "QQQCl6MNumRB"
      },
      "outputs": [],
      "source": [
        "X_train,X_val,y_train,y_val=train_test_split(train_sentences,y_target,test_size=0.2,stratify=y_target)"
      ]
    },
    {
      "cell_type": "code",
      "execution_count": 14,
      "metadata": {
        "colab": {
          "base_uri": "https://localhost:8080/"
        },
        "id": "06OL1oPCk-F2",
        "outputId": "a64878d9-e026-4c1e-b4be-1440c10140fb"
      },
      "outputs": [
        {
          "output_type": "stream",
          "name": "stdout",
          "text": [
            "Shape of X_train: 124848\n",
            "Shape of y_train: (124848, 5)\n",
            "Shape of X_val: 31212\n",
            "Shape of y_val: (31212, 5)\n",
            "\n",
            "First 5 samples of the training dataset:\n",
            "Sentence: ['rachel', 'griffith']\n",
            "Label: [0. 0. 1. 0. 0.]\n",
            "Sentence: ['even', 'hastily', 'amateurishly', 'drawn', 'animation', 'engage']\n",
            "Label: [1. 0. 0. 0. 0.]\n",
            "Sentence: ['pulpy', 'concept', 'many', 'hand', 'would', 'completely', 'forgettable']\n",
            "Label: [0. 0. 0. 1. 0.]\n",
            "Sentence: ['tragically']\n",
            "Label: [0. 1. 0. 0. 0.]\n",
            "Sentence: ['film', 'nearly', 'terminal', 'case', 'cutis']\n",
            "Label: [0. 0. 1. 0. 0.]\n",
            "\n",
            "\n",
            "\n",
            "First 5 samples of the validation dataset:\n",
            "Sentence: ['create', 'sustain', 'mood']\n",
            "Label: [0. 0. 1. 0. 0.]\n",
            "Sentence: ['number']\n",
            "Label: [0. 0. 1. 0. 0.]\n",
            "Sentence: ['human', 'nature', 'goofball', 'movie', 'way', 'malkovich']\n",
            "Label: [0. 0. 1. 0. 0.]\n",
            "Sentence: ['familiar', 'story']\n",
            "Label: [0. 0. 1. 0. 0.]\n",
            "Sentence: ['crikey', 'indeed']\n",
            "Label: [0. 1. 0. 0. 0.]\n"
          ]
        }
      ],
      "source": [
        "# Print the shapes of the datasets\n",
        "print(\"Shape of X_train:\", len(X_train))\n",
        "print(\"Shape of y_train:\", y_train.shape)\n",
        "print(\"Shape of X_val:\", len(X_val))\n",
        "print(\"Shape of y_val:\", y_val.shape)\n",
        "\n",
        "# Print the first 5 samples of the training dataset\n",
        "print(\"\\nFirst 5 samples of the training dataset:\")\n",
        "for i in range(5):\n",
        "    print(\"Sentence:\", X_train[i])\n",
        "    print(\"Label:\", y_train[i])\n",
        "\n",
        "print()\n",
        "print()\n",
        "\n",
        "# Print the first 5 samples of the validation dataset\n",
        "print(\"\\nFirst 5 samples of the validation dataset:\")\n",
        "for i in range(5):\n",
        "    print(\"Sentence:\", X_val[i])\n",
        "    print(\"Label:\", y_val[i])"
      ]
    },
    {
      "cell_type": "markdown",
      "metadata": {
        "id": "z39kvcV0umRB"
      },
      "source": [
        "## Geting the no of unique words and max length of a review available in the list of cleaned reviews."
      ]
    },
    {
      "cell_type": "code",
      "execution_count": 15,
      "metadata": {
        "colab": {
          "base_uri": "https://localhost:8080/"
        },
        "id": "tkquCwtPumRC",
        "outputId": "928602a9-bb26-4ffb-b77b-ea988daabc33"
      },
      "outputs": [
        {
          "output_type": "stream",
          "name": "stderr",
          "text": [
            "100%|██████████| 124848/124848 [00:00<00:00, 402210.92it/s]"
          ]
        },
        {
          "output_type": "stream",
          "name": "stdout",
          "text": [
            "\n",
            "Number of unique words: 14736\n",
            "Maximum sentence length: 30\n"
          ]
        },
        {
          "output_type": "stream",
          "name": "stderr",
          "text": [
            "\n"
          ]
        }
      ],
      "source": [
        "#It is needed for initializing tokenizer of keras and subsequent padding\n",
        "\n",
        "unique_words = set()\n",
        "len_max = 0\n",
        "\n",
        "for sent in tqdm(X_train):\n",
        "\n",
        "    unique_words.update(sent)\n",
        "\n",
        "    if(len_max<len(sent)):\n",
        "        len_max = len(sent)\n",
        "\n",
        "# Print the number of unique words and the maximum sentence length\n",
        "print()\n",
        "print(\"Number of unique words:\", len(list(unique_words)))\n",
        "print(\"Maximum sentence length:\", len_max)"
      ]
    },
    {
      "cell_type": "markdown",
      "metadata": {
        "id": "yndbzS4HumRC"
      },
      "source": [
        "## Actual tokenizer of keras and convert to sequences"
      ]
    },
    {
      "cell_type": "code",
      "execution_count": 16,
      "metadata": {
        "id": "j_AV176UumRC"
      },
      "outputs": [],
      "source": [
        "tokenizer = Tokenizer(num_words=len(list(unique_words)))\n",
        "tokenizer.fit_on_texts(list(X_train))\n",
        "\n",
        "#texts_to_sequences(texts)\n",
        "\n",
        "    # Arguments- texts: list of texts to turn to sequences.\n",
        "    #Return: list of sequences (one per text input).\n",
        "X_train = tokenizer.texts_to_sequences(X_train)\n",
        "X_val = tokenizer.texts_to_sequences(X_val)\n",
        "X_test = tokenizer.texts_to_sequences(test_sentences)\n",
        "\n",
        "#padding done to equalize the lengths of all input reviews. LSTM networks needs all inputs to be same length.\n",
        "#Therefore reviews lesser than max length will be made equal using extra zeros at end. This is padding.\n",
        "\n",
        "X_train = sequence.pad_sequences(X_train, maxlen=len_max)\n",
        "X_val = sequence.pad_sequences(X_val, maxlen=len_max)\n",
        "X_test = sequence.pad_sequences(X_test, maxlen=len_max)"
      ]
    },
    {
      "cell_type": "code",
      "execution_count": 17,
      "metadata": {
        "colab": {
          "base_uri": "https://localhost:8080/"
        },
        "id": "maiqKrO2navP",
        "outputId": "54669ac2-6745-4211-edf2-abe837b33d4e"
      },
      "outputs": [
        {
          "output_type": "stream",
          "name": "stdout",
          "text": [
            "Shape of X_train: (124848, 30)\n",
            "Shape of X_val: (31212, 30)\n",
            "Shape of X_test: (15000, 30)\n",
            "\n",
            "First 5 samples of the training dataset:\n",
            "[   0    0    0    0    0    0    0    0    0    0    0    0    0    0\n",
            "    0    0    0    0    0    0    0    0    0    0    0    0    0    0\n",
            " 9390 4911]\n",
            "[   0    0    0    0    0    0    0    0    0    0    0    0    0    0\n",
            "    0    0    0    0    0    0    0    0    0    0   18 1874 6615 2013\n",
            "  368 2627]\n",
            "[   0    0    0    0    0    0    0    0    0    0    0    0    0    0\n",
            "    0    0    0    0    0    0    0    0    0 2965  409   37  386   33\n",
            "  407 1033]\n",
            "[   0    0    0    0    0    0    0    0    0    0    0    0    0    0\n",
            "    0    0    0    0    0    0    0    0    0    0    0    0    0    0\n",
            "    0 2873]\n",
            "[   0    0    0    0    0    0    0    0    0    0    0    0    0    0\n",
            "    0    0    0    0    0    0    0    0    0    0    0    1  215 7105\n",
            "  466 7778]\n",
            "\n",
            "\n",
            "\n",
            "First 5 samples of the test dataset:\n",
            "[   0    0    0    0    0    0    0    0    0    0    0    0   24    5\n",
            "  491 8948   61  219    2 4583  184   79  189 1239 1140    2 1611  455\n",
            "   10 8806]\n",
            "[    0     0     0     0     0     0     0     0     0     0     0     0\n",
            "     0     0     0     0     0     0   307    58 12182   268  1923   680\n",
            "   276   136    13   435    94    41]\n",
            "[   0    0    0    0    0    0    0    0    0    0    0    0    6  268\n",
            "    7  397  525  585   16 1559  545  115   82  332   32  346  867   63\n",
            "  490 1351]\n",
            "[    0     0     0     0     0     0     0     0     0     0     7    89\n",
            "   132  4481    21   288    25   109 11889    86   100   243   143   175\n",
            "   145 14693   131  1003  2784   230]\n",
            "[   0    0    0    0    0    0    0    0    0    0    0    0    0    0\n",
            "    0    0 1028 1193  899  501 1778  238    2  194  229 1702    1  843\n",
            "  698  191]\n"
          ]
        }
      ],
      "source": [
        "# Print the shapes of the datasets\n",
        "print(\"Shape of X_train:\", X_train.shape)\n",
        "print(\"Shape of X_val:\", X_val.shape)\n",
        "print(\"Shape of X_test:\", X_test.shape)\n",
        "\n",
        "# Print the first 5 samples of the training dataset\n",
        "print(\"\\nFirst 5 samples of the training dataset:\")\n",
        "for i in range(5):\n",
        "    print(X_train[i])\n",
        "\n",
        "print()\n",
        "print()\n",
        "\n",
        "# Print the first 5 samples of the test dataset\n",
        "print(\"\\nFirst 5 samples of the test dataset:\")\n",
        "for i in range(5):\n",
        "    print(X_test[i])\n"
      ]
    },
    {
      "cell_type": "markdown",
      "metadata": {
        "id": "oMSNmCtA3S4o"
      },
      "source": [
        "##Model Architecture"
      ]
    },
    {
      "cell_type": "code",
      "execution_count": 18,
      "metadata": {
        "colab": {
          "base_uri": "https://localhost:8080/",
          "height": 771
        },
        "id": "A7fSzS8pumRC",
        "outputId": "c80a1ca8-d27f-4214-fd65-e2c04d041003"
      },
      "outputs": [
        {
          "output_type": "stream",
          "name": "stderr",
          "text": [
            "WARNING:absl:`lr` is deprecated in Keras optimizer, please use `learning_rate` or use the legacy optimizer, e.g.,tf.keras.optimizers.legacy.Adam.\n"
          ]
        },
        {
          "output_type": "execute_result",
          "data": {
            "image/png": "[encoded data removed]",
            "text/plain": [
              "<IPython.core.display.Image object>"
            ]
          },
          "metadata": {},
          "execution_count": 18
        }
      ],
      "source": [
        "model=Sequential()\n",
        "model.add(Embedding(len(list(unique_words)),300,input_length=len_max))\n",
        "model.add(LSTM(128,dropout=0.5, recurrent_dropout=0.5,return_sequences=True))\n",
        "model.add(LSTM(64,dropout=0.5, recurrent_dropout=0.5,return_sequences=False))\n",
        "model.add(Dense(100,activation='relu'))\n",
        "model.add(Dropout(0.5))\n",
        "model.add(Dense(num_classes,activation='softmax'))\n",
        "model.compile(loss='categorical_crossentropy',optimizer=Adam(lr=0.005),metrics=['accuracy'])\n",
        "plot_model(model, to_file='model_plot.png', show_shapes=True, show_layer_names=True)"
      ]
    },
    {
      "cell_type": "markdown",
      "metadata": {
        "id": "1MFHEBqC7LN9"
      },
      "source": [
        "## Early stopping to prevent overfitting\n"
      ]
    },
    {
      "cell_type": "code",
      "execution_count": 19,
      "metadata": {
        "id": "yyDLGrwq7LOF"
      },
      "outputs": [],
      "source": [
        "early_stopping = EarlyStopping(min_delta = 0.001, mode = 'max', monitor='val_acc', patience = 2)\n",
        "callback = [early_stopping]"
      ]
    },
    {
      "cell_type": "markdown",
      "metadata": {
        "id": "k3a2u7IAumRD"
      },
      "source": [
        "##Fit the model"
      ]
    },
    {
      "cell_type": "code",
      "execution_count": 20,
      "metadata": {
        "colab": {
          "base_uri": "https://localhost:8080/"
        },
        "id": "RcRkz5t_umRD",
        "outputId": "ced86370-88e6-4f12-8dc8-53a451b4d15d"
      },
      "outputs": [
        {
          "output_type": "stream",
          "name": "stdout",
          "text": [
            "Epoch 1/6\n",
            "488/488 [==============================] - ETA: 0s - loss: 1.0816 - accuracy: 0.5723"
          ]
        },
        {
          "output_type": "stream",
          "name": "stderr",
          "text": [
            "WARNING:tensorflow:Early stopping conditioned on metric `val_acc` which is not available. Available metrics are: loss,accuracy,val_loss,val_accuracy\n"
          ]
        },
        {
          "output_type": "stream",
          "name": "stdout",
          "text": [
            "\b\b\b\b\b\b\b\b\b\b\b\b\b\b\b\b\b\b\b\b\b\b\b\b\b\b\b\b\b\b\b\b\b\b\b\b\b\b\b\b\b\b\b\b\b\b\b\b\b\b\b\b\b\b\b\b\b\b\b\b\b\b\b\b\b\b\b\b\b\b\b\b\b\b\b\b\b\b\b\b\b\b\b\b\r488/488 [==============================] - 455s 901ms/step - loss: 1.0816 - accuracy: 0.5723 - val_loss: 0.8912 - val_accuracy: 0.6394\n",
            "Epoch 2/6\n",
            "488/488 [==============================] - ETA: 0s - loss: 0.8473 - accuracy: 0.6596"
          ]
        },
        {
          "output_type": "stream",
          "name": "stderr",
          "text": [
            "WARNING:tensorflow:Early stopping conditioned on metric `val_acc` which is not available. Available metrics are: loss,accuracy,val_loss,val_accuracy\n"
          ]
        },
        {
          "output_type": "stream",
          "name": "stdout",
          "text": [
            "\b\b\b\b\b\b\b\b\b\b\b\b\b\b\b\b\b\b\b\b\b\b\b\b\b\b\b\b\b\b\b\b\b\b\b\b\b\b\b\b\b\b\b\b\b\b\b\b\b\b\b\b\b\b\b\b\b\b\b\b\b\b\b\b\b\b\b\b\b\b\b\b\b\b\b\b\b\b\b\b\b\b\b\b\r488/488 [==============================] - 408s 836ms/step - loss: 0.8473 - accuracy: 0.6596 - val_loss: 0.8491 - val_accuracy: 0.6567\n",
            "Epoch 3/6\n",
            "488/488 [==============================] - ETA: 0s - loss: 0.7868 - accuracy: 0.6814"
          ]
        },
        {
          "output_type": "stream",
          "name": "stderr",
          "text": [
            "WARNING:tensorflow:Early stopping conditioned on metric `val_acc` which is not available. Available metrics are: loss,accuracy,val_loss,val_accuracy\n"
          ]
        },
        {
          "output_type": "stream",
          "name": "stdout",
          "text": [
            "\b\b\b\b\b\b\b\b\b\b\b\b\b\b\b\b\b\b\b\b\b\b\b\b\b\b\b\b\b\b\b\b\b\b\b\b\b\b\b\b\b\b\b\b\b\b\b\b\b\b\b\b\b\b\b\b\b\b\b\b\b\b\b\b\b\b\b\b\b\b\b\b\b\b\b\b\b\b\b\b\b\b\b\b\r488/488 [==============================] - 415s 850ms/step - loss: 0.7868 - accuracy: 0.6814 - val_loss: 0.8379 - val_accuracy: 0.6619\n",
            "Epoch 4/6\n",
            "488/488 [==============================] - ETA: 0s - loss: 0.7464 - accuracy: 0.6932"
          ]
        },
        {
          "output_type": "stream",
          "name": "stderr",
          "text": [
            "WARNING:tensorflow:Early stopping conditioned on metric `val_acc` which is not available. Available metrics are: loss,accuracy,val_loss,val_accuracy\n"
          ]
        },
        {
          "output_type": "stream",
          "name": "stdout",
          "text": [
            "\b\b\b\b\b\b\b\b\b\b\b\b\b\b\b\b\b\b\b\b\b\b\b\b\b\b\b\b\b\b\b\b\b\b\b\b\b\b\b\b\b\b\b\b\b\b\b\b\b\b\b\b\b\b\b\b\b\b\b\b\b\b\b\b\b\b\b\b\b\b\b\b\b\b\b\b\b\b\b\b\b\b\b\b\r488/488 [==============================] - 415s 849ms/step - loss: 0.7464 - accuracy: 0.6932 - val_loss: 0.8371 - val_accuracy: 0.6623\n",
            "Epoch 5/6\n",
            "488/488 [==============================] - ETA: 0s - loss: 0.7116 - accuracy: 0.7053"
          ]
        },
        {
          "output_type": "stream",
          "name": "stderr",
          "text": [
            "WARNING:tensorflow:Early stopping conditioned on metric `val_acc` which is not available. Available metrics are: loss,accuracy,val_loss,val_accuracy\n"
          ]
        },
        {
          "output_type": "stream",
          "name": "stdout",
          "text": [
            "\b\b\b\b\b\b\b\b\b\b\b\b\b\b\b\b\b\b\b\b\b\b\b\b\b\b\b\b\b\b\b\b\b\b\b\b\b\b\b\b\b\b\b\b\b\b\b\b\b\b\b\b\b\b\b\b\b\b\b\b\b\b\b\b\b\b\b\b\b\b\b\b\b\b\b\b\b\b\b\b\b\b\b\b\r488/488 [==============================] - 409s 838ms/step - loss: 0.7116 - accuracy: 0.7053 - val_loss: 0.8473 - val_accuracy: 0.6606\n",
            "Epoch 6/6\n",
            "488/488 [==============================] - ETA: 0s - loss: 0.6845 - accuracy: 0.7141"
          ]
        },
        {
          "output_type": "stream",
          "name": "stderr",
          "text": [
            "WARNING:tensorflow:Early stopping conditioned on metric `val_acc` which is not available. Available metrics are: loss,accuracy,val_loss,val_accuracy\n"
          ]
        },
        {
          "output_type": "stream",
          "name": "stdout",
          "text": [
            "\b\b\b\b\b\b\b\b\b\b\b\b\b\b\b\b\b\b\b\b\b\b\b\b\b\b\b\b\b\b\b\b\b\b\b\b\b\b\b\b\b\b\b\b\b\b\b\b\b\b\b\b\b\b\b\b\b\b\b\b\b\b\b\b\b\b\b\b\b\b\b\b\b\b\b\b\b\b\b\b\b\b\b\b\r488/488 [==============================] - 410s 841ms/step - loss: 0.6845 - accuracy: 0.7141 - val_loss: 0.8527 - val_accuracy: 0.6589\n"
          ]
        }
      ],
      "source": [
        "history=model.fit(X_train, y_train, validation_data=(X_val, y_val),epochs=6, batch_size=256, verbose=1, callbacks=callback)"
      ]
    },
    {
      "cell_type": "code",
      "execution_count": 21,
      "metadata": {
        "colab": {
          "base_uri": "https://localhost:8080/"
        },
        "id": "YyEuBkzMpxFW",
        "outputId": "415c1f04-4193-4203-9e51-fc1a3a772d1a"
      },
      "outputs": [
        {
          "output_type": "stream",
          "name": "stdout",
          "text": [
            "\n",
            "Epoch Details:\n",
            "+--------+--------------------+--------------------+--------------------+----------------------+\n",
            "| Epoch  |   Training loss    | Training accuracy  |  Validation loss   | Validation accuracy  |\n",
            "+--------+--------------------+--------------------+--------------------+----------------------+\n",
            "|   1    |       1.0816       |       0.5723       |       0.8912       |        0.6394        |\n",
            "|   2    |       0.8473       |       0.6596       |       0.8491       |        0.6567        |\n",
            "|   3    |       0.7868       |       0.6814       |       0.8379       |        0.6619        |\n",
            "|   4    |       0.7464       |       0.6932       |       0.8371       |        0.6623        |\n",
            "|   5    |       0.7116       |       0.7053       |       0.8473       |        0.6606        |\n",
            "|   6    |       0.6845       |       0.7141       |       0.8527       |        0.6589        |\n",
            "+--------+--------------------+--------------------+--------------------+----------------------+\n"
          ]
        }
      ],
      "source": [
        "print(\"\\nEpoch Details:\")\n",
        "print(f\"+{'-'*8}+{'-'*20}+{'-'*20}+{'-'*20}+{'-'*22}+\")\n",
        "print(f\"| {'Epoch':^6} | {'Training loss':^18} | {'Training accuracy':^18} | {'Validation loss':^18} | {'Validation accuracy':^20} |\")\n",
        "print(f\"+{'-'*8}+{'-'*20}+{'-'*20}+{'-'*20}+{'-'*22}+\")\n",
        "\n",
        "for epoch, (loss, accuracy, val_loss, val_accuracy) in enumerate(zip(history.history['loss'], history.history['accuracy'], history.history['val_loss'], history.history['val_accuracy'])):\n",
        "    print(f\"| {epoch + 1:^6} | {loss:^18.4f} | {accuracy:^18.4f} | {val_loss:^18.4f} | {val_accuracy:^20.4f} |\")\n",
        "\n",
        "print(f\"+{'-'*8}+{'-'*20}+{'-'*20}+{'-'*20}+{'-'*22}+\")"
      ]
    },
    {
      "cell_type": "markdown",
      "metadata": {
        "id": "_YM_5CP_4mYR"
      },
      "source": [
        "##Visualize learning curve"
      ]
    },
    {
      "cell_type": "code",
      "execution_count": 22,
      "metadata": {
        "colab": {
          "base_uri": "https://localhost:8080/",
          "height": 454
        },
        "id": "vWRtdX4XumRD",
        "outputId": "c1e8e340-9347-4f81-8eae-31eff4ad2d1f"
      },
      "outputs": [
        {
          "output_type": "display_data",
          "data": {
            "text/plain": [
              "<Figure size 640x480 with 1 Axes>"
            ],
            "image/png": "[encoded data removed]"
          },
          "metadata": {}
        }
      ],
      "source": [
        "epoch_count = range(1, len(history.history['loss']) + 1)\n",
        "plt.plot(epoch_count, history.history['loss'], 'r--')\n",
        "plt.plot(epoch_count, history.history['val_loss'], 'b-')\n",
        "plt.legend(['Training Loss', 'Validation Loss'])\n",
        "plt.xlabel('Epoch')\n",
        "plt.ylabel('Loss')\n",
        "plt.show()"
      ]
    },
    {
      "cell_type": "code",
      "source": [
        "epoch_count = range(1, len(history.history['accuracy']) + 1)\n",
        "\n",
        "plt.plot(epoch_count, history.history['accuracy'], 'r--')\n",
        "plt.plot(epoch_count, history.history['val_accuracy'], 'b-')\n",
        "plt.legend(['Training Accuracy', 'Validation Accuracy'])\n",
        "plt.xlabel('Epoch')\n",
        "plt.ylabel('Accuracy')\n",
        "plt.show()"
      ],
      "metadata": {
        "colab": {
          "base_uri": "https://localhost:8080/",
          "height": 452
        },
        "id": "Z66HzcM_ncim",
        "outputId": "baebb4bb-04ff-4007-c315-9eb5f12678a7"
      },
      "execution_count": 27,
      "outputs": [
        {
          "output_type": "display_data",
          "data": {
            "text/plain": [
              "<Figure size 640x480 with 1 Axes>"
            ],
            "image/png": "[encoded data removed]"
          },
          "metadata": {}
        }
      ]
    },
    {
      "cell_type": "markdown",
      "metadata": {
        "id": "VF6LtWE65hvg"
      },
      "source": [
        "##Confusion Matrix"
      ]
    },
    {
      "cell_type": "code",
      "execution_count": 23,
      "metadata": {
        "colab": {
          "base_uri": "https://localhost:8080/",
          "height": 845
        },
        "id": "ul0WybReSi_3",
        "outputId": "cf14dfd5-aa91-4475-947f-c803f9279e47"
      },
      "outputs": [
        {
          "output_type": "stream",
          "name": "stdout",
          "text": [
            "976/976 [==============================] - 29s 30ms/step\n"
          ]
        },
        {
          "output_type": "display_data",
          "data": {
            "text/plain": [
              "<Figure size 1000x700 with 2 Axes>"
            ],
            "image/png": "[encoded data removed]"
          },
          "metadata": {}
        },
        {
          "output_type": "stream",
          "name": "stdout",
          "text": [
            "              precision    recall  f1-score   support\n",
            "\n",
            "           0       0.51      0.38      0.44      1414\n",
            "           1       0.53      0.60      0.56      5455\n",
            "           2       0.76      0.76      0.76     15917\n",
            "           3       0.57      0.56      0.57      6585\n",
            "           4       0.55      0.48      0.51      1841\n",
            "\n",
            "    accuracy                           0.66     31212\n",
            "   macro avg       0.59      0.56      0.57     31212\n",
            "weighted avg       0.66      0.66      0.66     31212\n",
            "\n"
          ]
        }
      ],
      "source": [
        "#Make predictions on the validation set\n",
        "y_val_pred_prob = model.predict(X_val)\n",
        "y_val_pred = np.argmax(y_val_pred_prob, axis=1)\n",
        "\n",
        "# Decode true labels\n",
        "y_val_true = np.argmax(y_val, axis=1)\n",
        "\n",
        "# Step 2: Create confusion matrix\n",
        "cm = confusion_matrix(y_val_true, y_val_pred)\n",
        "\n",
        "# Step 3: Plot confusion matrix\n",
        "plt.figure(figsize=(10, 7))\n",
        "sns.heatmap(cm, annot=True, fmt='d', cmap='Blues', xticklabels=['0', '1', '2', '3', '4'], yticklabels=['0', '1', '2', '3', '4'])\n",
        "plt.xlabel('Predicted Label')\n",
        "plt.ylabel('True Label')\n",
        "plt.show()\n",
        "\n",
        "# Print classification report\n",
        "print(classification_report(y_val_true, y_val_pred))"
      ]
    },
    {
      "cell_type": "markdown",
      "metadata": {
        "id": "GX87LnB4umRD"
      },
      "source": [
        "## Submission"
      ]
    },
    {
      "cell_type": "code",
      "execution_count": 24,
      "metadata": {
        "colab": {
          "base_uri": "https://localhost:8080/"
        },
        "id": "mmMiwJBVumRD",
        "outputId": "600c0bc2-5e48-4413-d4f0-3b998eb22172"
      },
      "outputs": [
        {
          "output_type": "stream",
          "name": "stdout",
          "text": [
            "469/469 [==============================] - 14s 30ms/step\n"
          ]
        }
      ],
      "source": [
        "#make the predictions with trained model and submit the predictions.\n",
        "#y_pred=model.predict_classes(X_test)\n",
        "\n",
        "predict_x=model.predict(X_test)\n",
        "y_pred = np.argmax(predict_x, axis=1)\n",
        "\n",
        "sub_file = pd.read_csv('/content/drive/MyDrive/Colab Notebooks/sampleSubmission.csv',sep=',')\n",
        "sub_file.Sentiment=y_pred\n",
        "sub_file.to_csv('/content/drive/MyDrive/Colab Notebooks/Submission.csv',index=False)"
      ]
    },
    {
      "cell_type": "code",
      "execution_count": 25,
      "metadata": {
        "colab": {
          "base_uri": "https://localhost:8080/"
        },
        "id": "OS-EtOWN8AZC",
        "outputId": "033407d7-2753-4564-8423-fe4ff6f36830"
      },
      "outputs": [
        {
          "output_type": "execute_result",
          "data": {
            "text/plain": [
              "array([0, 1, 1, 3, 4, 3, 3, 2, 3, 2, 2, 2, 2, 2, 2, 3, 2, 3, 3, 2])"
            ]
          },
          "metadata": {},
          "execution_count": 25
        }
      ],
      "source": [
        "y_pred[slice(20)]"
      ]
    },
    {
      "cell_type": "code",
      "execution_count": 26,
      "metadata": {
        "id": "jldIbSVEs_0v",
        "colab": {
          "base_uri": "https://localhost:8080/"
        },
        "outputId": "bcf62806-a139-4d83-97c2-af7a6ff5a06c"
      },
      "outputs": [
        {
          "output_type": "stream",
          "name": "stdout",
          "text": [
            "Sample 1 predictions in percentages:\n",
            "Negative: 77.34%\n",
            "Somewhat Negative: 21.74%\n",
            "Neutral: 0.91%\n",
            "Somewhat Positive: 0.01%\n",
            "Positive: 0.00%\n",
            "\n",
            "Sample 2 predictions in percentages:\n",
            "Negative: 23.25%\n",
            "Somewhat Negative: 49.57%\n",
            "Neutral: 23.75%\n",
            "Somewhat Positive: 3.19%\n",
            "Positive: 0.25%\n",
            "\n",
            "Sample 3 predictions in percentages:\n",
            "Negative: 35.83%\n",
            "Somewhat Negative: 48.15%\n",
            "Neutral: 14.76%\n",
            "Somewhat Positive: 1.16%\n",
            "Positive: 0.10%\n",
            "\n",
            "Sample 4 predictions in percentages:\n",
            "Negative: 0.04%\n",
            "Somewhat Negative: 0.68%\n",
            "Neutral: 11.15%\n",
            "Somewhat Positive: 69.08%\n",
            "Positive: 19.06%\n",
            "\n",
            "Sample 5 predictions in percentages:\n",
            "Negative: 0.00%\n",
            "Somewhat Negative: 0.01%\n",
            "Neutral: 0.10%\n",
            "Somewhat Positive: 14.47%\n",
            "Positive: 85.43%\n",
            "\n",
            "Sample 6 predictions in percentages:\n",
            "Negative: 0.02%\n",
            "Somewhat Negative: 0.75%\n",
            "Neutral: 15.26%\n",
            "Somewhat Positive: 75.96%\n",
            "Positive: 8.01%\n",
            "\n",
            "Sample 7 predictions in percentages:\n",
            "Negative: 0.02%\n",
            "Somewhat Negative: 0.75%\n",
            "Neutral: 15.26%\n",
            "Somewhat Positive: 75.96%\n",
            "Positive: 8.01%\n",
            "\n",
            "Sample 8 predictions in percentages:\n",
            "Negative: 0.08%\n",
            "Somewhat Negative: 11.73%\n",
            "Neutral: 79.54%\n",
            "Somewhat Positive: 8.60%\n",
            "Positive: 0.04%\n",
            "\n",
            "Sample 9 predictions in percentages:\n",
            "Negative: 0.02%\n",
            "Somewhat Negative: 0.32%\n",
            "Neutral: 9.39%\n",
            "Somewhat Positive: 74.65%\n",
            "Positive: 15.62%\n",
            "\n",
            "Sample 10 predictions in percentages:\n",
            "Negative: 0.01%\n",
            "Somewhat Negative: 2.30%\n",
            "Neutral: 91.85%\n",
            "Somewhat Positive: 5.83%\n",
            "Positive: 0.01%\n",
            "\n"
          ]
        }
      ],
      "source": [
        "predict_x_percent = predict_x * 100\n",
        "for i in range(10):\n",
        "    print(f\"Sample {i+1} predictions in percentages:\")\n",
        "    print(f\"Negative: {predict_x_percent[i][0]:.2f}%\")\n",
        "    print(f\"Somewhat Negative: {predict_x_percent[i][1]:.2f}%\")\n",
        "    print(f\"Neutral: {predict_x_percent[i][2]:.2f}%\")\n",
        "    print(f\"Somewhat Positive: {predict_x_percent[i][3]:.2f}%\")\n",
        "    print(f\"Positive: {predict_x_percent[i][4]:.2f}%\")\n",
        "    print()\n"
      ]
    }
  ],
  "metadata": {
    "colab": {
      "provenance": []
    },
    "kernelspec": {
      "display_name": "Python 3",
      "language": "python",
      "name": "python3"
    },
    "language_info": {
      "codemirror_mode": {
        "name": "ipython",
        "version": 3
      },
      "file_extension": ".py",
      "mimetype": "text/x-python",
      "name": "python",
      "nbconvert_exporter": "python",
      "pygments_lexer": "ipython3",
      "version": "3.6.6"
    }
  },
  "nbformat": 4,
  "nbformat_minor": 0
}